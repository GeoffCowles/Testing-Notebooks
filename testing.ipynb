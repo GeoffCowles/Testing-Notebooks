{
 "cells": [
  {
   "cell_type": "markdown",
   "metadata": {},
   "source": [
    "<a rel=\"license\" href=\"http://creativecommons.org/licenses/by/4.0/\"><img alt=\"Creative Commons License\" style=\"border-width:0\" src=\"https://i.creativecommons.org/l/by/4.0/88x31.png\" /></a><br />This work is licensed under a <a rel=\"license\" href=\"http://creativecommons.org/licenses/by/4.0/\">Creative Commons Attribution 4.0 International License</a>."
   ]
  },
  {
   "cell_type": "markdown",
   "metadata": {},
   "source": [
    "# Interactive Demos for Tides\n",
    "\n",
    "NOTE:  You must execute all the cells in the notebook before you begin working with it. To do this, select cell => Run All above.  It is recommended you repeat this twice. \n",
    "\n",
    "In this notebook you will work through some interactive exercises to help you understand how multiple constituents combine to generate the tide.  In the first exercise you will study how the superposition of two waveforms of different frequencies (periods) can lead to longer period fluctuations in the resulting signal.   The second exercise will help you see how this superposition leads to the well known spring-neap (fortnightly) variation in tides.  The third exercise explains the cause of *diurnal inequality* or differences in the heights of sequential high or low tides.  The last exercise will ask you to construct realistic tidal time series using the dominant five constituents from two locations in the U.S., one in New England and the other in the Pacific Northwest and compare them.  \n",
    "\n"
   ]
  },
  {
   "cell_type": "markdown",
   "metadata": {},
   "source": [
    "### Superposition of Waves:  Beats\n",
    "\n",
    "In this excercise you will see what happens when two waves of different amplitudes and frequencies are added together.  \n",
    "\n",
    "1. Start by maximizing the amplitude of wave 1.  You should see a pure sine wave of amplitude 1.   Then, increase the amplitude of wave 2.  You will see that the superposition of two waves of the same frequency and phase leads to a waveform with an amplitude equal to that of the sum of the amplitude the two waves.  \n",
    "\n",
    "2. Set the amplitude of wave 2 to 50% of that of wave 1.  Then, slowly increase the period ratio.  At a period ratio very close to, but slightly greater than 1, you should begin to see that the extrema of the resultant tide height (black line) are themselves oscillating at a period that is much greater than the period of either of the waves.  This *slower* oscillation is a called a *beat* and is shown graphically by the dashed lines connecting the extrema.  This curve is called the *envelope*.  \n",
    "\n",
    "3. Continue increasing the ratio of the periods (T2/T1).  What happens to the period of the beating.  Does it increase or decrease? "
   ]
  },
  {
   "cell_type": "code",
   "execution_count": 5,
   "metadata": {
    "hide_input": true
   },
   "outputs": [
    {
     "data": {
      "application/vnd.jupyter.widget-view+json": {
       "model_id": "b79e17673b574f02b43ffb722533386e",
       "version_major": 2,
       "version_minor": 0
      },
      "text/plain": [
       "interactive(children=(FloatSlider(value=0.0, description='A1', max=1.0), FloatSlider(value=0.0, description='A…"
      ]
     },
     "metadata": {},
     "output_type": "display_data"
    }
   ],
   "source": [
    "from __future__ import print_function\n",
    "from ipywidgets import interact, interactive, fixed, interact_manual\n",
    "import ipywidgets as widgets\n",
    "import matplotlib.pyplot as plt\n",
    "import numpy as np\n",
    "from scipy.signal import find_peaks\n",
    "\n",
    "@interact(A1=(0,1,0.1),A2=(0,1,0.1),T2_over_T1=(1,1.2,.01))\n",
    "def fortnight(A1=0,A2=0,T2_over_T1=1):\n",
    "    plt.rcParams[\"figure.figsize\"] = (15,5)\n",
    "    fsize = 18\n",
    "    \n",
    "    # set independent variable vector (time)\n",
    "    t = np.linspace(0, 15, num=1000)\n",
    "    T1 = 0.5\n",
    "    T2 = T2_over_T1*T1\n",
    "    Z1 = A1*np.sin(t*2*np.pi/T1)\n",
    "    Z2 = A2*np.sin(t*2*np.pi/T2)\n",
    "    \n",
    "    \n",
    "    # build free surface using M2 & S2 constituents\n",
    "    z = Z1+Z2\n",
    "    \n",
    "    ind_pos,info = find_peaks(z)\n",
    "    ind_neg,info = find_peaks(-z)\n",
    "    \n",
    "    \n",
    "    \n",
    "    # plot\n",
    "    plt.plot(t,Z1,'r--')\n",
    "    plt.plot(t,Z2,'b--')\n",
    "    plt.plot(t,z,'k')\n",
    "    plt.plot(t[ind_pos],z[ind_pos],'k--')\n",
    "    plt.plot(t[ind_neg],z[ind_neg],'k--')\n",
    "    plt.legend(['wave1','wave2','superposition','envelope'],loc='upper left')\n",
    "    plt.xlabel(\"t \",fontsize=fsize)\n",
    "    plt.ylabel(\"$z$\",fontsize=fsize)\n",
    "    plt.axis([t.min(),t.max(),2*(min(-1,z.min())),2*(max(1,z.max()))])\n",
    "    plt.show()\n",
    "    "
   ]
  },
  {
   "cell_type": "markdown",
   "metadata": {},
   "source": [
    "### Spring Neap Cycle ($M_2$+$S_2$) and Influence of Perigee ($N_2$)\n",
    "\n",
    "In this interactive exercise you will explore how the interaction of the $M_2$ (principal lunar semi-diurnal) and $S_2$ (principal solar semi-diurnal) constituents can generate an approximately 14-day variation known as the spring-neap cycle.  You will also observe how the $N_2$ component (the solar elliptical) can temper or enhance alternating spring/neap cycles.  The $N_2$ represents the influence of the ellipticity of the moon's orbit around the earth which oscillates between residing at a point nearest the earth (perigee) to a point furthest from the earth (apogee) on a 27.55 day cycle. The ellipticity of the moon's orbit (ratio of minor to major axis) is approximately 5%.  The variations in the spring/neap cycle are notable in many locations on the globe.\n",
    "\n",
    "**Exercises**\n",
    "\n",
    "1. Start with non-zero $M_2$ amplitude and add in the $S_2$.  You will see the distinct spring-neap cycle form. The dashed line is the envelope of extrema.  It is only displayed to help visualize the spring-neap varation.  The blue line is the actual time series of tide height.  Unless some resonance is in play, the $S_2$ will be significantly smaller than the $M_2$.  In New Bedford the $S_2$ amplitude is 22% that of the $M_2$.\n",
    "\n",
    "2. Increase the $N_2$ amplitude and you will see how it leads to a variation in the spring neap cycle.  In New Bedford, the $N_2$ and $S_2$ constituents have similar amplitude.  Try dropping the $S_2$ towards zero with nonzero $N_2$ and $M_2$.  Note the approximate period of the envelope.   \n",
    "\n"
   ]
  },
  {
   "cell_type": "code",
   "execution_count": 6,
   "metadata": {
    "hide_input": true,
    "scrolled": false
   },
   "outputs": [
    {
     "data": {
      "application/vnd.jupyter.widget-view+json": {
       "model_id": "723a697c393842a08858c48a1531e8d2",
       "version_major": 2,
       "version_minor": 0
      },
      "text/plain": [
       "interactive(children=(FloatSlider(value=0.0, description='M2amp', max=1.0), FloatSlider(value=0.0, description…"
      ]
     },
     "metadata": {},
     "output_type": "display_data"
    }
   ],
   "source": [
    "from __future__ import print_function\n",
    "from ipywidgets import interact, interactive, fixed, interact_manual\n",
    "import ipywidgets as widgets\n",
    "import matplotlib.pyplot as plt\n",
    "import numpy as np\n",
    "from scipy.signal import find_peaks\n",
    "\n",
    "@interact(M2amp=(0,1,0.1),S2amp=(0,1,0.1),N2amp=(0,1,0.1))\n",
    "def fortnight(M2amp=0,S2amp=0,N2amp=0):\n",
    "    plt.rcParams[\"figure.figsize\"] = (15,3)\n",
    "    fsize = 18\n",
    "    \n",
    "    # set periods for M2 & S2 constituents (in days)\n",
    "    TM2 = 0.51752505\n",
    "    TS2 = 0.50000000 \n",
    "    TN2 = 0.52743172\n",
    "    \n",
    "    \n",
    "    # set independent variable vector (time)\n",
    "    t = np.linspace(0, 45, num=2000)\n",
    "    \n",
    "    M2 = M2amp*np.sin(t*2*np.pi/TM2)\n",
    "    S2 = S2amp*np.sin(t*2*np.pi/TS2)\n",
    "    \n",
    "    # build free surface using M2 & S2 constituents\n",
    "    z = M2amp*np.sin(t*2*np.pi/TM2) + \\\n",
    "        S2amp*np.sin(t*2*np.pi/TS2) + \\\n",
    "        N2amp*np.sin(t*2*np.pi/TN2)\n",
    "    \n",
    "    ind_pos,info = find_peaks(z)\n",
    "    ind_neg,info = find_peaks(-z)\n",
    "    \n",
    "    # plot\n",
    "    #plt.plot(t,M2,'r--')\n",
    "    plt.plot(t,z,'b')\n",
    "    #plt.plot(t,S2,'k--')\n",
    "    plt.plot(t[ind_pos],z[ind_pos],'k--')\n",
    "    plt.plot(t[ind_neg],z[ind_neg],'k--')\n",
    "    plt.xlabel(\"t [days]\",fontsize=fsize)\n",
    "    plt.ylabel(\"$\\eta [m]$\",fontsize=fsize)\n",
    "    plt.show()\n",
    "    \n",
    "    "
   ]
  },
  {
   "cell_type": "markdown",
   "metadata": {},
   "source": [
    "### Diurnal Inequality\n",
    "\n",
    "In this interactive exercise you will explore how the interaction of diurnal and semi-diurnal constituents give rise to diurnal inequality.  Here you may control separately the amplitude of the $M_2$ and $K_1$ constituents as well as the phase difference between them (phase is in degrees).  The classification of the diurnal inequality is reported in the figure using the value of the Form factor ($F = \\frac{K_1}{M_2}$). \n",
    "\n",
    "**Exercises**\n",
    "\n",
    "1. Use the sliders to adjust the relative amplitudes so that you transition from *semi-diurnal* to *mixed* to *diurnal*.  Pay attention to how many high/low tides are occurring each day and the relative sizes of adjacent highs and lows.  \n",
    "\n",
    "2. With amplitudes fixed, vary the phase.  How does the time of high/low tide change relative to midnight as you modify the phase?"
   ]
  },
  {
   "cell_type": "code",
   "execution_count": 7,
   "metadata": {
    "hide_input": true,
    "tags": [
     "hide_input"
    ]
   },
   "outputs": [
    {
     "data": {
      "application/vnd.jupyter.widget-view+json": {
       "model_id": "aa6ae5bc34d54497b3007488a08f71bf",
       "version_major": 2,
       "version_minor": 0
      },
      "text/plain": [
       "interactive(children=(FloatSlider(value=1.0, description='M2amp', max=1.0, min=0.1), FloatSlider(value=0.0, de…"
      ]
     },
     "metadata": {},
     "output_type": "display_data"
    }
   ],
   "source": [
    "from __future__ import print_function\n",
    "from ipywidgets import interact, interactive, fixed, interact_manual\n",
    "import ipywidgets as widgets\n",
    "import matplotlib.pyplot as plt\n",
    "import numpy as np\n",
    "\n",
    "@interact(M2amp=(0.1,1,0.1),K1amp=(0.0,1,0.1),phased=(0,360,30))\n",
    "def fortnight(M2amp=1,K1amp=0,phased=0):\n",
    "    \n",
    "    # font and figure size\n",
    "    fsize = 18\n",
    "    plt.rcParams[\"figure.figsize\"] = (15,3)\n",
    "    \n",
    "    \n",
    "    TM2 = 0.51752505 #M2 Period in Days\n",
    "    TK1 = 0.99708300 #K1 Period in Days\n",
    "    phi = phased*2*np.pi/180.\n",
    "    \n",
    "    # compute form factor F and classify tide\n",
    "    form = K1amp/(max(M2amp,1e-10))\n",
    "    if(form > 3):\n",
    "        tidetype = 'diurnal'\n",
    "    elif(form > 0.25):\n",
    "        tidetype = 'mixed'\n",
    "    else:\n",
    "        tidetype = 'semi-diurnal'\n",
    "    \n",
    "    # build the wave using M2 & K1 constituents\n",
    "    t = np.linspace(0, 5, num=1000)\n",
    "    z = M2amp*np.sin(t*2*np.pi/TM2-phi) + K1amp*np.sin(t*2*np.pi/TK1)\n",
    "    \n",
    "    # plot the waveform\n",
    "    plt.plot(t,z,'b')\n",
    "    plt.xlabel(\"t [days]\",fontsize=fsize)\n",
    "    plt.ylabel(\"$\\eta [m]$\",fontsize=fsize)\n",
    "    ss = 'Form Factor: F = '+\"{:.2f}\".format(form)+'    type: '+tidetype\n",
    "    plt.text(0.15,2.2, ss, fontsize=fsize)\n",
    "    plt.axis([t.min(),t.max(),-3,3])\n",
    "    plt.show()"
   ]
  },
  {
   "cell_type": "markdown",
   "metadata": {},
   "source": [
    "### Realistic tides\n",
    "\n",
    "In this last exercise you will contruct a tidal signal using what are the five dominant constituents for most of North America ($M_2,S_2,N_2,K_1,O_1$).  \n",
    "\n",
    "**Exercises**\n",
    "\n",
    "1. Construct the tide for outer New Bedford harbor using the [tidal constituents at Ford Rodman](https://tidesandcurrents.noaa.gov/harcon.html?id=8447712).  Make sure you are setting the amplitude and phase.  Choose the slider value closest to the real data. Watch the waveform carefully as you add in each constituent to see the incremental contributions.  Save the resulting tidal time series with a screenshot.  \n",
    "\n",
    "2. Reset the sliders to 0 and construct the tide using [harmonics from Seattle](https://tidesandcurrents.noaa.gov/harcon.html?id=9447130).  \n",
    "\n",
    "3. Compare and contrast the two tidal time series (New Bedford and Boston).  Which region is characterized by a stronger diurnal inequality?  How does the tidal range compare? "
   ]
  },
  {
   "cell_type": "code",
   "execution_count": 8,
   "metadata": {
    "hide_input": true,
    "tags": [
     "hide_input"
    ]
   },
   "outputs": [
    {
     "data": {
      "application/vnd.jupyter.widget-view+json": {
       "model_id": "bc96b318b4204d079667bee1244e65b5",
       "version_major": 2,
       "version_minor": 0
      },
      "text/plain": [
       "interactive(children=(FloatSlider(value=0.0, description='M2amp', max=4.0), IntSlider(value=0, description='M2…"
      ]
     },
     "metadata": {},
     "output_type": "display_data"
    }
   ],
   "source": [
    "from __future__ import print_function\n",
    "from ipywidgets import interact, interactive, fixed, interact_manual\n",
    "import ipywidgets as widgets\n",
    "import matplotlib.pyplot as plt\n",
    "import numpy as np\n",
    "\n",
    "@interact(M2amp=(0,4,0.1),M2phase=(0,360,15),\n",
    "          S2amp=(0,4,0.1),S2phase=(0,360,15),\n",
    "          N2amp=(0,4,0.1),N2phase=(0,360,15),\n",
    "          K1amp=(0,4,0.1),K1phase=(0,360,15),\n",
    "          O1amp=(0,4,0.1),O1phase=(0,360,15))\n",
    "          \n",
    "def fortnight(M2amp=0,M2phase=0,S2amp=0,S2phase=0,N2amp=0,N2phase=0,K1amp=0,K1phase=0,O1amp=0,O1phase=0):\n",
    "    plt.rcParams[\"figure.figsize\"] = (15,3)\n",
    "    \n",
    "    fsize = 18 #font\n",
    "    \n",
    "    # convert from degree to radians\n",
    "    deg2rad = 2*np.pi/360.\n",
    "    \n",
    "    # set angular frequency for M2 & S2 constituents (in days) \n",
    "    # (convert from degrees/hour) to rad/day\n",
    "    dph_2_rpd = (2*np.pi/360.)*24.\n",
    "    wM2 = 28.984104*dph_2_rpd\n",
    "    wS2 = 30.00*dph_2_rpd\n",
    "    wN2 = 28.43973*dph_2_rpd\n",
    "    wK1 = 15.041069*dph_2_rpd\n",
    "    wO1 = 13.943035*dph_2_rpd\n",
    "  \n",
    "\n",
    "    # set independent variable vector (time)\n",
    "    t = np.linspace(0, 45, num=1000)\n",
    "    \n",
    "    # build free surface using 5 constituents\n",
    "    z = M2amp*np.sin(wM2*t-M2phase*deg2rad)+ \\\n",
    "        S2amp*np.sin(wS2*t-S2phase*deg2rad)+ \\\n",
    "        N2amp*np.sin(wN2*t-N2phase*deg2rad)+ \\\n",
    "        K1amp*np.sin(wK1*t-K1phase*deg2rad)+ \\\n",
    "        O1amp*np.sin(wO1*t-O1phase*deg2rad)\n",
    "        \n",
    "    \n",
    "    # plot\n",
    "    plt.plot(t,z,'b')\n",
    "    plt.xlabel(\"t [days]\",fontsize=fsize)\n",
    "    plt.ylabel(\"$\\eta [m]$\",fontsize=fsize)\n",
    "    plt.show()"
   ]
  }
 ],
 "metadata": {
  "kernelspec": {
   "display_name": "Python 3",
   "language": "python",
   "name": "python3"
  },
  "language_info": {
   "codemirror_mode": {
    "name": "ipython",
    "version": 3
   },
   "file_extension": ".py",
   "mimetype": "text/x-python",
   "name": "python",
   "nbconvert_exporter": "python",
   "pygments_lexer": "ipython3",
   "version": "3.7.3"
  }
 },
 "nbformat": 4,
 "nbformat_minor": 4
}
